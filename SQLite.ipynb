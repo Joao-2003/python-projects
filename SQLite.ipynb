{
  "nbformat": 4,
  "nbformat_minor": 0,
  "metadata": {
    "colab": {
      "provenance": [],
      "authorship_tag": "ABX9TyPQeOY53MwnZurz7e35jpJw",
      "include_colab_link": true
    },
    "kernelspec": {
      "name": "python3",
      "display_name": "Python 3"
    },
    "language_info": {
      "name": "python"
    }
  },
  "cells": [
    {
      "cell_type": "markdown",
      "metadata": {
        "id": "view-in-github",
        "colab_type": "text"
      },
      "source": [
        "<a href=\"https://colab.research.google.com/github/Joao-2003/python-projects/blob/main/SQLite.ipynb\" target=\"_parent\"><img src=\"https://colab.research.google.com/assets/colab-badge.svg\" alt=\"Open In Colab\"/></a>"
      ]
    },
    {
      "cell_type": "code",
      "execution_count": 1,
      "metadata": {
        "id": "Q4oyfqtJcuwn",
        "colab": {
          "base_uri": "https://localhost:8080/"
        },
        "outputId": "66bd87fc-6867-4d91-899e-d346f3c4a0eb"
      },
      "outputs": [
        {
          "output_type": "stream",
          "name": "stdout",
          "text": [
            "Tabelas no banco de dados: [('customer_shopping_data',)]\n"
          ]
        }
      ],
      "source": [
        "import sqlite3\n",
        "import pandas as pd\n",
        "\n",
        "# Conectar ao banco de dados\n",
        "conn = sqlite3.connect('shopping.sqlite')\n",
        "cursor = conn.cursor()\n",
        "\n",
        "# Listar tabelas disponíveis\n",
        "cursor.execute(\"SELECT name FROM sqlite_master WHERE type='table';\")\n",
        "tabelas = cursor.fetchall()\n",
        "print(\"Tabelas no banco de dados:\", tabelas)"
      ]
    },
    {
      "cell_type": "code",
      "source": [
        "# Listar colunas da tabela\n",
        "cursor.execute(\"PRAGMA table_info(customer_shopping_data);\")\n",
        "colunas = cursor.fetchall()\n",
        "print(\"\\nColunas da tabela 'customer_shopping_data':\")\n",
        "for coluna in colunas:\n",
        "    print(coluna[1], \"- Tipo:\", coluna[2])"
      ],
      "metadata": {
        "colab": {
          "base_uri": "https://localhost:8080/"
        },
        "id": "N45Dwgqzs4gw",
        "outputId": "203236be-3a44-4bf8-9864-86e42ab2d607"
      },
      "execution_count": 2,
      "outputs": [
        {
          "output_type": "stream",
          "name": "stdout",
          "text": [
            "\n",
            "Colunas da tabela 'customer_shopping_data':\n",
            "invoice_no - Tipo: TEXT\n",
            "customer_id - Tipo: TEXT\n",
            "gender - Tipo: TEXT\n",
            "age - Tipo: INTEGER\n",
            "category - Tipo: TEXT\n",
            "quantity - Tipo: INTEGER\n",
            "price - Tipo: REAL\n",
            "payment_method - Tipo: TEXT\n",
            "invoice_date - Tipo: TEXT\n",
            "shopping_mall - Tipo: TEXT\n"
          ]
        }
      ]
    },
    {
      "cell_type": "code",
      "source": [
        "cursor.execute(\"SELECT COUNT(*) FROM customer_shopping_data;\")\n",
        "total_compras = cursor.fetchone()[0]\n",
        "print(f\"\\nTotal de compras: {total_compras}\")"
      ],
      "metadata": {
        "colab": {
          "base_uri": "https://localhost:8080/"
        },
        "id": "DVDobtaMtBZ9",
        "outputId": "7e127d18-afb3-44c9-c238-3904c9735cd4"
      },
      "execution_count": 3,
      "outputs": [
        {
          "output_type": "stream",
          "name": "stdout",
          "text": [
            "\n",
            "Total de compras: 16029\n"
          ]
        }
      ]
    },
    {
      "cell_type": "code",
      "source": [
        "cursor.execute(\"SELECT SUM(price * quantity) FROM customer_shopping_data;\")\n",
        "valor_total = cursor.fetchone()[0]\n",
        "print(f\"\\nValor total vendido: R${valor_total:,.2f}\")"
      ],
      "metadata": {
        "colab": {
          "base_uri": "https://localhost:8080/"
        },
        "id": "GntbvJBguRXW",
        "outputId": "1a4f8fd2-ba17-42d2-ecd6-c9c698ec8851"
      },
      "execution_count": 7,
      "outputs": [
        {
          "output_type": "stream",
          "name": "stdout",
          "text": [
            "\n",
            "Valor total vendido: R$40,505,696.55\n"
          ]
        }
      ]
    },
    {
      "cell_type": "code",
      "source": [
        "cursor.execute(\"\"\"\n",
        "    SELECT gender, COUNT(*) AS total_compras\n",
        "    FROM customer_shopping_data\n",
        "    GROUP BY gender\n",
        "    ORDER BY total_compras DESC;\n",
        "\"\"\")\n",
        "generos = cursor.fetchall()\n",
        "print(\"\\nDistribuição por gênero:\")\n",
        "for genero, total in generos:\n",
        "    print(f\"{genero}: {total} compras\")"
      ],
      "metadata": {
        "colab": {
          "base_uri": "https://localhost:8080/"
        },
        "id": "fBj53LK8vu3Q",
        "outputId": "9fff145f-e46e-4ebd-e1dc-eec61f20ddde"
      },
      "execution_count": 8,
      "outputs": [
        {
          "output_type": "stream",
          "name": "stdout",
          "text": [
            "\n",
            "Distribuição por gênero:\n",
            "Female: 9586 compras\n",
            "Male: 6443 compras\n"
          ]
        }
      ]
    },
    {
      "cell_type": "code",
      "source": [
        "cursor.execute(\"\"\"\n",
        "    SELECT category, SUM(quantity) AS total_quantidade\n",
        "    FROM customer_shopping_data\n",
        "    GROUP BY category\n",
        "    ORDER BY total_quantidade DESC\n",
        "    LIMIT 5;\n",
        "\"\"\")\n",
        "categorias = cursor.fetchall()\n",
        "print(\"\\nTop 5 categorias mais vendidas:\")\n",
        "for categoria, quantidade in categorias:\n",
        "    print(f\"{categoria}: {quantidade} unidades\")"
      ],
      "metadata": {
        "colab": {
          "base_uri": "https://localhost:8080/"
        },
        "id": "xpFc2Vl2vxG7",
        "outputId": "f9ade5d0-5727-46de-c425-36faba9d58c9"
      },
      "execution_count": 9,
      "outputs": [
        {
          "output_type": "stream",
          "name": "stdout",
          "text": [
            "\n",
            "Top 5 categorias mais vendidas:\n",
            "Clothing: 16301 unidades\n",
            "Cosmetics: 7577 unidades\n",
            "Food & Beverage: 7318 unidades\n",
            "Shoes: 4918 unidades\n",
            "Toys: 4703 unidades\n"
          ]
        }
      ]
    },
    {
      "cell_type": "code",
      "source": [
        "cursor.execute(\"\"\"\n",
        "    SELECT AVG(price * quantity)\n",
        "    FROM customer_shopping_data;\n",
        "\"\"\")\n",
        "media_gasto = cursor.fetchone()[0]\n",
        "print(f\"\\nMédia de gasto por cliente: R${media_gasto:,.2f}\")"
      ],
      "metadata": {
        "colab": {
          "base_uri": "https://localhost:8080/"
        },
        "id": "c5Rytmokv2n1",
        "outputId": "7f6270e0-b09b-4234-f874-247f7da2573a"
      },
      "execution_count": 10,
      "outputs": [
        {
          "output_type": "stream",
          "name": "stdout",
          "text": [
            "\n",
            "Média de gasto por cliente: R$2,527.03\n"
          ]
        }
      ]
    },
    {
      "cell_type": "code",
      "source": [
        "cursor.execute(\"\"\"\n",
        "    SELECT shopping_mall, COUNT(*) AS total_transacoes\n",
        "    FROM customer_shopping_data\n",
        "    GROUP BY shopping_mall\n",
        "    ORDER BY total_transacoes DESC\n",
        "    LIMIT 3;\n",
        "\"\"\")\n",
        "shoppings = cursor.fetchall()\n",
        "print(\"\\nTop 3 shoppings mais movimentados:\")\n",
        "for shopping, transacoes in shoppings:\n",
        "    print(f\"{shopping}: {transacoes} transações\")"
      ],
      "metadata": {
        "colab": {
          "base_uri": "https://localhost:8080/"
        },
        "id": "Vbde00FVv6FK",
        "outputId": "2ae9e459-32cd-45f5-f871-c3100b361399"
      },
      "execution_count": 11,
      "outputs": [
        {
          "output_type": "stream",
          "name": "stdout",
          "text": [
            "\n",
            "Top 3 shoppings mais movimentados:\n",
            "Mall of Istanbul: 3248 transações\n",
            "Kanyon: 3204 transações\n",
            "Metrocity: 2397 transações\n"
          ]
        }
      ]
    },
    {
      "cell_type": "code",
      "source": [
        "# Carregar dados completos com pandas\n",
        "df = pd.read_sql_query(\"SELECT * FROM customer_shopping_data\", conn)\n",
        "\n",
        "# Exportar para CSV\n",
        "df.to_csv(\"customer_shopping_analysis.csv\", index=False, sep=';', encoding='utf-8')\n",
        "print(\"\\nDados exportados para 'customer_shopping_analysis.csv'.\")"
      ],
      "metadata": {
        "colab": {
          "base_uri": "https://localhost:8080/"
        },
        "id": "a57kB6DBwAVG",
        "outputId": "99e17851-e423-4bac-992e-362f2a68f1a2"
      },
      "execution_count": 12,
      "outputs": [
        {
          "output_type": "stream",
          "name": "stdout",
          "text": [
            "\n",
            "Dados exportados para 'customer_shopping_analysis.csv'.\n"
          ]
        }
      ]
    },
    {
      "cell_type": "code",
      "source": [
        "conn.close()"
      ],
      "metadata": {
        "id": "GE9FWtD8wCdh"
      },
      "execution_count": 13,
      "outputs": []
    }
  ]
}