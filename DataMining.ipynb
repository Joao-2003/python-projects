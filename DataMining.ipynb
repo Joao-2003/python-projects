{
  "nbformat": 4,
  "nbformat_minor": 0,
  "metadata": {
    "colab": {
      "provenance": [],
      "authorship_tag": "ABX9TyPkb8cTD84zbie0hK3k6NvN",
      "include_colab_link": true
    },
    "kernelspec": {
      "name": "python3",
      "display_name": "Python 3"
    },
    "language_info": {
      "name": "python"
    }
  },
  "cells": [
    {
      "cell_type": "markdown",
      "metadata": {
        "id": "view-in-github",
        "colab_type": "text"
      },
      "source": [
        "<a href=\"https://colab.research.google.com/github/Joao-2003/python-projects/blob/main/DataMining.ipynb\" target=\"_parent\"><img src=\"https://colab.research.google.com/assets/colab-badge.svg\" alt=\"Open In Colab\"/></a>"
      ]
    },
    {
      "cell_type": "code",
      "execution_count": 2,
      "metadata": {
        "colab": {
          "base_uri": "https://localhost:8080/"
        },
        "id": "yRowngx1QAOt",
        "outputId": "bbb3f205-29b0-4e40-827f-529ed9185358"
      },
      "outputs": [
        {
          "output_type": "stream",
          "name": "stdout",
          "text": [
            "\n",
            "🎮 Notebooks Gamer encontrados:\n",
            "1. Notebook Gamer Acer Aspire Nitro 5 AN515-47-R1N8 AMD Ryzen 5 7535HS 15,6\" 8GB SSD 512 GB Windows 11 GeForce RTX 3050 - R$ 3.506,43\n",
            "2. Notebook Gamer Lenovo LOQ Intel Core i5 12450H RTX 2050 15,6\" 16GB SSD 512GB Windows 11 83EU0001BR - R$ 4.299,00\n",
            "3. Notebook Asus Vivobook 16X Intel Core i5-12500H RTX 2050 16\" 8GB SSD 512GB Windows 11 K3605ZF-N1420W - R$ 4.277,07\n",
            "4. Notebook Gamer Acer Nitro V 15 Intel Core i5 13420H RTX 2050 15,6\" 8GB SSD 512GB Linux ANV15-51-50KD - R$ 4.364,03\n",
            "5. Notebook Gamer Acer Nitro V 15 Intel Core i5 13420H RTX 3050 15,6\" 8GB SSD 512GB Windows 11 ANV15-51-58AZ - R$ 4.949,10\n",
            "\n",
            "✅ Dados salvos em notebooks_gamer.csv\n"
          ]
        }
      ],
      "source": [
        "import requests\n",
        "from bs4 import BeautifulSoup\n",
        "import csv\n",
        "\n",
        "headers = {\n",
        "    \"User-Agent\": \"Mozilla/5.0 (Windows NT 10.0; Win64; x64) AppleWebKit/537.36 (KHTML, like Gecko) Chrome/122.0.0.0 Safari/537.36\",\n",
        "    \"Accept-Language\": \"pt-BR,pt;q=0.9,en-US;q=0.8,en;q=0.7\"\n",
        "}\n",
        "\n",
        "url = \"https://www.buscape.com.br/busca/notebook+gamer\"\n",
        "\n",
        "try:\n",
        "    response = requests.get(url, headers=headers, timeout=15)\n",
        "    response.raise_for_status()\n",
        "except Exception as e:\n",
        "    print(f\"Erro: {e}\")\n",
        "    exit()\n",
        "\n",
        "soup = BeautifulSoup(response.content, 'html.parser')\n",
        "\n",
        "# Encontrar todos os cards de produtos\n",
        "produtos = soup.find_all('div', {'data-testid': 'product-card'})\n",
        "\n",
        "notebooks = []\n",
        "\n",
        "for produto in produtos[:5]:  # Pegar os 5 primeiros\n",
        "    # Extrair nome\n",
        "    nome = produto.find('h2', {'data-testid': 'product-card::name'})\n",
        "    nome_text = nome.text.strip() if nome else \"Nome não encontrado\"\n",
        "\n",
        "    # Extrair preço\n",
        "    preco = produto.find('p', {'data-testid': 'product-card::price'})\n",
        "    preco_text = preco.text.strip() if preco else \"Preço não disponível\"\n",
        "\n",
        "    notebooks.append((nome_text, preco_text))\n",
        "\n",
        "# Exibir resultados\n",
        "print(\"\\n🎮 Notebooks Gamer encontrados:\")\n",
        "for idx, (nome, preco) in enumerate(notebooks, 1):\n",
        "    print(f\"{idx}. {nome} - {preco}\")\n",
        "\n",
        "# Salvar CSV\n",
        "with open('notebooks_gamer.csv', 'w', newline='', encoding='utf-8') as file:\n",
        "    writer = csv.writer(file)\n",
        "    writer.writerow(['Produto', 'Preço'])\n",
        "    writer.writerows(notebooks)\n",
        "\n",
        "print(\"\\n✅ Dados salvos em notebooks_gamer.csv\")"
      ]
    }
  ]
}