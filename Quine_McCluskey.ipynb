{
  "nbformat": 4,
  "nbformat_minor": 0,
  "metadata": {
    "colab": {
      "provenance": [],
      "authorship_tag": "ABX9TyPsR2fuH2vnS1wGKCQKkq39",
      "include_colab_link": true
    },
    "kernelspec": {
      "name": "python3",
      "display_name": "Python 3"
    },
    "language_info": {
      "name": "python"
    }
  },
  "cells": [
    {
      "cell_type": "markdown",
      "metadata": {
        "id": "view-in-github",
        "colab_type": "text"
      },
      "source": [
        "<a href=\"https://colab.research.google.com/github/Joao-2003/python-projects/blob/main/Quine_McCluskey.ipynb\" target=\"_parent\"><img src=\"https://colab.research.google.com/assets/colab-badge.svg\" alt=\"Open In Colab\"/></a>"
      ]
    },
    {
      "cell_type": "code",
      "execution_count": 1,
      "metadata": {
        "colab": {
          "base_uri": "https://localhost:8080/"
        },
        "id": "Jt3d28vWomQB",
        "outputId": "fdcb2d39-cc78-462f-fd3d-e158984204fc"
      },
      "outputs": [
        {
          "output_type": "stream",
          "name": "stdout",
          "text": [
            "Digite a expressão lógica: a & b | ~a & c\n",
            "Expressão simplificada: (a & b) | (c & ~a)\n"
          ]
        }
      ],
      "source": [
        "from sympy.logic import simplify_logic\n",
        "from sympy import symbols\n",
        "\n",
        "def simplify_expression(expression: str):\n",
        "    variables = sorted(list(set([char for char in expression if char.isalpha()])))\n",
        "    sym_vars = symbols(' '.join(variables))\n",
        "    simplified_expr = simplify_logic(expression, form='dnf', force=True)\n",
        "    return simplified_expr\n",
        "\n",
        "expression = input('Digite a expressão lógica: ')\n",
        "result = simplify_expression(expression)\n",
        "print(f'Expressão simplificada: {result}')"
      ]
    },
    {
      "cell_type": "code",
      "source": [
        "!pip install sympy"
      ],
      "metadata": {
        "colab": {
          "base_uri": "https://localhost:8080/"
        },
        "id": "qobTfZHWpl30",
        "outputId": "63d0fb8c-7b25-412e-a200-ad59767ba61c"
      },
      "execution_count": null,
      "outputs": [
        {
          "output_type": "stream",
          "name": "stdout",
          "text": [
            "Looking in indexes: https://pypi.org/simple, https://us-python.pkg.dev/colab-wheels/public/simple/\n",
            "Requirement already satisfied: sympy in /usr/local/lib/python3.10/dist-packages (1.11.1)\n",
            "Requirement already satisfied: mpmath>=0.19 in /usr/local/lib/python3.10/dist-packages (from sympy) (1.3.0)\n"
          ]
        }
      ]
    },
    {
      "cell_type": "code",
      "source": [
        "import ttg\n",
        "\n",
        "print(ttg.Truths(['p', 'q', 'r'], ['(p or ~q =>p) or (~q and r)']))"
      ],
      "metadata": {
        "colab": {
          "base_uri": "https://localhost:8080/"
        },
        "id": "wXCnGoJxx77g",
        "outputId": "635a7d4b-89da-4ec7-eba3-cf73061a532e"
      },
      "execution_count": null,
      "outputs": [
        {
          "output_type": "stream",
          "name": "stdout",
          "text": [
            "+-----+-----+-----+-------------------------------+\n",
            "|  p  |  q  |  r  |  (p or ~q =>p) or (~q and r)  |\n",
            "|-----+-----+-----+-------------------------------|\n",
            "|  1  |  1  |  1  |               1               |\n",
            "|  1  |  1  |  0  |               1               |\n",
            "|  1  |  0  |  1  |               1               |\n",
            "|  1  |  0  |  0  |               1               |\n",
            "|  0  |  1  |  1  |               1               |\n",
            "|  0  |  1  |  0  |               1               |\n",
            "|  0  |  0  |  1  |               1               |\n",
            "|  0  |  0  |  0  |               0               |\n",
            "+-----+-----+-----+-------------------------------+\n"
          ]
        }
      ]
    },
    {
      "cell_type": "code",
      "source": [
        "import ttg\n",
        "\n",
        "# Cria uma tabela verdadeira com a biblioteca ttg\n",
        "table = ttg.Truths(['p', 'q', 'r'], ['(p or ~q =>p) or (~q and r)'])\n",
        "# Obtém a tabela verdadeira como uma string\n",
        "table_str = str(table)\n",
        "# Divide a string em linhas\n",
        "table_lines = table_str.split('\\n')\n",
        "# Inverte a ordem das linhas da tabela verdadeira (exceto o cabeçalho)\n",
        "reversed_table_lines = table_lines[:2] + table_lines[:1:-1]\n",
        "# Junta as linhas invertidas em uma única string\n",
        "reversed_table_str = '\\n'.join(reversed_table_lines)\n",
        "\n",
        "# Imprime a tabela verdadeira com as linhas invertidas\n",
        "print(reversed_table_str)"
      ],
      "metadata": {
        "colab": {
          "base_uri": "https://localhost:8080/"
        },
        "id": "irUtIFlkygOz",
        "outputId": "8ca4338b-531a-4c3d-ec90-cc6286073be4"
      },
      "execution_count": null,
      "outputs": [
        {
          "output_type": "stream",
          "name": "stdout",
          "text": [
            "+-----+-----+-----+-------------------------------+\n",
            "|  p  |  q  |  r  |  (p or ~q =>p) or (~q and r)  |\n",
            "+-----+-----+-----+-------------------------------+\n",
            "|  0  |  0  |  0  |               0               |\n",
            "|  0  |  0  |  1  |               1               |\n",
            "|  0  |  1  |  0  |               1               |\n",
            "|  0  |  1  |  1  |               1               |\n",
            "|  1  |  0  |  0  |               1               |\n",
            "|  1  |  0  |  1  |               1               |\n",
            "|  1  |  1  |  0  |               1               |\n",
            "|  1  |  1  |  1  |               1               |\n",
            "|-----+-----+-----+-------------------------------|\n"
          ]
        }
      ]
    },
    {
      "cell_type": "code",
      "source": [
        "!pip install truth-table-generator"
      ],
      "metadata": {
        "colab": {
          "base_uri": "https://localhost:8080/"
        },
        "id": "_8IvcrWjx8Mc",
        "outputId": "9f9609ed-de2a-466e-d15d-5a3b88098088"
      },
      "execution_count": null,
      "outputs": [
        {
          "output_type": "stream",
          "name": "stdout",
          "text": [
            "Looking in indexes: https://pypi.org/simple, https://us-python.pkg.dev/colab-wheels/public/simple/\n",
            "Collecting truth-table-generator\n",
            "  Downloading truth_table_generator-1.1.2.tar.gz (14 kB)\n",
            "  Preparing metadata (setup.py) ... \u001b[?25l\u001b[?25hdone\n",
            "Requirement already satisfied: numpy in /usr/local/lib/python3.10/dist-packages (from truth-table-generator) (1.22.4)\n",
            "Requirement already satisfied: pandas in /usr/local/lib/python3.10/dist-packages (from truth-table-generator) (1.5.3)\n",
            "Collecting PTable (from truth-table-generator)\n",
            "  Downloading PTable-0.9.2.tar.gz (31 kB)\n",
            "  Preparing metadata (setup.py) ... \u001b[?25l\u001b[?25hdone\n",
            "Requirement already satisfied: pyparsing in /usr/local/lib/python3.10/dist-packages (from truth-table-generator) (3.1.0)\n",
            "Requirement already satisfied: tabulate in /usr/local/lib/python3.10/dist-packages (from truth-table-generator) (0.8.10)\n",
            "Requirement already satisfied: jinja2 in /usr/local/lib/python3.10/dist-packages (from truth-table-generator) (3.1.2)\n",
            "Requirement already satisfied: MarkupSafe>=2.0 in /usr/local/lib/python3.10/dist-packages (from jinja2->truth-table-generator) (2.1.3)\n",
            "Requirement already satisfied: python-dateutil>=2.8.1 in /usr/local/lib/python3.10/dist-packages (from pandas->truth-table-generator) (2.8.2)\n",
            "Requirement already satisfied: pytz>=2020.1 in /usr/local/lib/python3.10/dist-packages (from pandas->truth-table-generator) (2022.7.1)\n",
            "Requirement already satisfied: six>=1.5 in /usr/local/lib/python3.10/dist-packages (from python-dateutil>=2.8.1->pandas->truth-table-generator) (1.16.0)\n",
            "Building wheels for collected packages: truth-table-generator, PTable\n",
            "  Building wheel for truth-table-generator (setup.py) ... \u001b[?25l\u001b[?25hdone\n",
            "  Created wheel for truth-table-generator: filename=truth_table_generator-1.1.2-py3-none-any.whl size=13939 sha256=50f6cdaa25a4a6c6be07ea242fa5728e38ae05547a69cbdd100320f04960d7de\n",
            "  Stored in directory: /root/.cache/pip/wheels/bf/8b/b9/7230e22b24694fca089c0bfc01f3120225a502d74989bc8222\n",
            "  Building wheel for PTable (setup.py) ... \u001b[?25l\u001b[?25hdone\n",
            "  Created wheel for PTable: filename=PTable-0.9.2-py3-none-any.whl size=22908 sha256=4a531f5afb8a260b3da42e8e502c462a2ba55b8edeb13e3ccd84e285d3d92295\n",
            "  Stored in directory: /root/.cache/pip/wheels/bc/88/52/f2e9fc70f3a657cf256e9b01a8a42938c4c5ee69118d51ed90\n",
            "Successfully built truth-table-generator PTable\n",
            "Installing collected packages: PTable, truth-table-generator\n",
            "Successfully installed PTable-0.9.2 truth-table-generator-1.1.2\n"
          ]
        }
      ]
    },
    {
      "cell_type": "code",
      "source": [
        "!pip install --upgrade truth-table-generator"
      ],
      "metadata": {
        "colab": {
          "base_uri": "https://localhost:8080/"
        },
        "id": "GCMuPcWJ0Ans",
        "outputId": "4008e4c1-e0f8-4573-d1cd-8d2db02bb88d"
      },
      "execution_count": null,
      "outputs": [
        {
          "output_type": "stream",
          "name": "stdout",
          "text": [
            "Looking in indexes: https://pypi.org/simple, https://us-python.pkg.dev/colab-wheels/public/simple/\n",
            "Requirement already satisfied: truth-table-generator in /usr/local/lib/python3.10/dist-packages (1.1.2)\n",
            "Requirement already satisfied: numpy in /usr/local/lib/python3.10/dist-packages (from truth-table-generator) (1.22.4)\n",
            "Requirement already satisfied: pandas in /usr/local/lib/python3.10/dist-packages (from truth-table-generator) (1.5.3)\n",
            "Requirement already satisfied: PTable in /usr/local/lib/python3.10/dist-packages (from truth-table-generator) (0.9.2)\n",
            "Requirement already satisfied: pyparsing in /usr/local/lib/python3.10/dist-packages (from truth-table-generator) (3.1.0)\n",
            "Requirement already satisfied: tabulate in /usr/local/lib/python3.10/dist-packages (from truth-table-generator) (0.8.10)\n",
            "Requirement already satisfied: jinja2 in /usr/local/lib/python3.10/dist-packages (from truth-table-generator) (3.1.2)\n",
            "Requirement already satisfied: MarkupSafe>=2.0 in /usr/local/lib/python3.10/dist-packages (from jinja2->truth-table-generator) (2.1.3)\n",
            "Requirement already satisfied: python-dateutil>=2.8.1 in /usr/local/lib/python3.10/dist-packages (from pandas->truth-table-generator) (2.8.2)\n",
            "Requirement already satisfied: pytz>=2020.1 in /usr/local/lib/python3.10/dist-packages (from pandas->truth-table-generator) (2022.7.1)\n",
            "Requirement already satisfied: six>=1.5 in /usr/local/lib/python3.10/dist-packages (from python-dateutil>=2.8.1->pandas->truth-table-generator) (1.16.0)\n"
          ]
        }
      ]
    },
    {
      "cell_type": "code",
      "source": [
        "from sympy.logic import SOPform, POSform\n",
        "from sympy import symbols\n",
        "from sympy.parsing.sympy_parser import parse_expr\n",
        "\n",
        "def simplify_expression(expression: str):\n",
        "    variables = sorted(list(set([char for char in expression if char.isalpha()])))\n",
        "    sym_vars = symbols(' '.join(variables))\n",
        "    parsed_expr = parse_expr(expression, local_dict=dict(zip(variables, sym_vars)))\n",
        "    truth_table = []\n",
        "    for i in range(2**len(sym_vars)):\n",
        "        inputs = [int(c) for c in format(i, f'0{len(sym_vars)}b')]\n",
        "        value = parsed_expr.subs(dict(zip(sym_vars, inputs)))\n",
        "        truth_table.append(value)\n",
        "    minterms = [i for i in range(len(truth_table)) if truth_table[i]]\n",
        "    simplified_expr = SOPform(sym_vars, minterms)\n",
        "    return simplified_expr\n",
        "\n",
        "expression = input('Digite a expressão lógica: ')\n",
        "result = simplify_expression(expression)\n",
        "print(f'Expressão simplificada: {result}')"
      ],
      "metadata": {
        "colab": {
          "base_uri": "https://localhost:8080/"
        },
        "id": "Pb5Vx7_2zPhE",
        "outputId": "854bcd48-38cf-4c55-99c1-ed66b04c21a4"
      },
      "execution_count": null,
      "outputs": [
        {
          "output_type": "stream",
          "name": "stdout",
          "text": [
            "Digite a expressão lógica: ~a & b & ~c & ~d | a & b & ~c & ~d | ~a & ~b & ~c & d | ~a & b & ~c & d | ~a & b & c &  ~d | a  & b  & c & ~d\n",
            "Expressão simplificada: (b & ~d) | (d & ~a & ~c)\n"
          ]
        }
      ]
    },
    {
      "cell_type": "code",
      "source": [
        "from sympy.logic import SOPform, POSform\n",
        "from sympy import symbols\n",
        "from sympy.parsing.sympy_parser import parse_expr\n",
        "\n",
        "def simplify_expression(expression: str):\n",
        "    variables = sorted(list(set([char for char in expression if char.isalpha()])))\n",
        "    sym_vars = symbols(' '.join(variables))\n",
        "    parsed_expr = parse_expr(expression, local_dict=dict(zip(variables, sym_vars)))\n",
        "    truth_table = []\n",
        "    for i in range(2**len(sym_vars)):\n",
        "        inputs = [int(c) for c in format(i, f'0{len(sym_vars)}b')]\n",
        "        value = parsed_expr.subs(dict(zip(sym_vars, inputs)))\n",
        "        truth_table.append(value)\n",
        "    minterms = [i for i in range(len(truth_table)) if truth_table[i]]\n",
        "    simplified_expr = SOPform(sym_vars, minterms)\n",
        "    return simplified_expr\n",
        "\n",
        "expression = input('Digite a expressão lógica: ')\n",
        "result = simplify_expression(expression)\n",
        "print(f'Expressão simplificada: {result}')"
      ],
      "metadata": {
        "colab": {
          "base_uri": "https://localhost:8080/"
        },
        "id": "NKgo-UHep-7k",
        "outputId": "d18bd68c-3da0-41dc-f221-6b908105cc55"
      },
      "execution_count": null,
      "outputs": [
        {
          "output_type": "stream",
          "name": "stdout",
          "text": [
            "Digite a expressão lógica: ~a & b | b & ~c | ~a & ~c | ~b & d | ~a & b & ~c | ~a & ~b & c \n",
            "Expressão simplificada: ~a | (b & ~c) | (d & ~b)\n"
          ]
        }
      ]
    },
    {
      "cell_type": "code",
      "source": [
        "from sympy.logic import SOPform, POSform\n",
        "from sympy import symbols\n",
        "from sympy.parsing.sympy_parser import parse_expr\n",
        "import re\n",
        "\n",
        "def simplify_expression(expression: str):\n",
        "    variables = sorted(list(set([char for char in expression if char.isalpha()])))\n",
        "    sym_vars = symbols(' '.join(variables))\n",
        "    parsed_expr = parse_expr(expression, local_dict=dict(zip(variables, sym_vars)))\n",
        "    truth_table = []\n",
        "    for i in range(2**len(sym_vars)):\n",
        "        inputs = [int(c) for c in format(i, f'0{len(sym_vars)}b')]\n",
        "        value = parsed_expr.subs(dict(zip(sym_vars, inputs)))\n",
        "        truth_table.append(value)\n",
        "    minterms = [i for i in range(len(truth_table)) if truth_table[i]]\n",
        "    simplified_expr = SOPform(sym_vars, minterms)\n",
        "    return simplified_expr\n",
        "\n",
        "def my_notation_to_sympy(expression: str):\n",
        "    # Substitua os operadores lógicos da sua notação pelos operadores lógicos do Sympy\n",
        "    expression = expression.replace('*', '&')\n",
        "    expression = expression.replace('+', '|')\n",
        "    # Mova o operador de negação da sua notação para antes da variável\n",
        "    expression = re.sub(r\"([a-zA-Z])'\", r'~\\1', expression)\n",
        "    return expression\n",
        "\n",
        "def sympy_to_my_notation(expression: str):\n",
        "    # Substitua os operadores lógicos do Sympy pelos operadores lógicos da sua notação\n",
        "    expression = expression.replace('&', '•')\n",
        "    expression = expression.replace('|', '+')\n",
        "    # Mova o operador de negação do Sympy para depois da variável\n",
        "    expression = re.sub(r'~([a-zA-Z])', r'\\1\\'', expression)\n",
        "    # Remova a contrabarra antes do apóstrofo\n",
        "    expression = expression.replace('\\\\\\'', '\\'')\n",
        "    return expression\n",
        "\n",
        "expression = input('Digite a expressão lógica: ')\n",
        "expression = my_notation_to_sympy(expression)\n",
        "result = simplify_expression(expression)\n",
        "result = sympy_to_my_notation(str(result))\n",
        "print(f'Expressão simplificada: {result}')"
      ],
      "metadata": {
        "colab": {
          "base_uri": "https://localhost:8080/"
        },
        "id": "QyuGhNCH9izp",
        "outputId": "4731ccad-116e-47fe-94ec-0203f13d0222"
      },
      "execution_count": 8,
      "outputs": [
        {
          "output_type": "stream",
          "name": "stdout",
          "text": [
            "Digite a expressão lógica: a' * b + b * c' + a' * c' + b' * d + a' * b * c' + a' * b' * c\n",
            "Expressão simplificada: a' + (b • c') + (d • b')\n"
          ]
        }
      ]
    },
    {
      "cell_type": "code",
      "source": [
        "from sympy.logic import SOPform, POSform\n",
        "from sympy import symbols\n",
        "from sympy.parsing.sympy_parser import parse_expr\n",
        "import re\n",
        "\n",
        "def simplify_expression(expression: str):\n",
        "    variables = sorted(list(set([char for char in expression if char.isalpha()])))\n",
        "    sym_vars = symbols(' '.join(variables))\n",
        "    parsed_expr = parse_expr(expression, local_dict=dict(zip(variables, sym_vars)))\n",
        "    truth_table = []\n",
        "    for i in range(2**len(sym_vars)):\n",
        "        inputs = [int(c) for c in format(i, f'0{len(sym_vars)}b')]\n",
        "        value = parsed_expr.subs(dict(zip(sym_vars, inputs)))\n",
        "        truth_table.append(value)\n",
        "    minterms = [i for i in range(len(truth_table)) if truth_table[i]]\n",
        "    simplified_expr = SOPform(sym_vars, minterms)\n",
        "    return simplified_expr\n",
        "\n",
        "def my_notation_to_sympy(expression: str):\n",
        "    # Substitua os operadores lógicos da sua notação pelos operadores lógicos do Sympy\n",
        "    expression = expression.replace('*', '&')\n",
        "    expression = expression.replace('+', '|')\n",
        "    # Mova o operador de negação da sua notação para antes da variável\n",
        "    expression = re.sub(r\"([a-zA-Z])'\", r'~\\1', expression)\n",
        "    return expression\n",
        "\n",
        "def sympy_to_my_notation(expression: str):\n",
        "    # Substitua os operadores lógicos do Sympy pelos operadores lógicos da sua notação\n",
        "    expression = expression.replace('&', '•')\n",
        "    expression = expression.replace('|', '+')\n",
        "    # Mova o operador de negação do Sympy para depois da variável\n",
        "    expression = re.sub(r'~([a-zA-Z])', r'\\1\\'', expression)\n",
        "    # Remova a contrabarra antes do apóstrofo\n",
        "    expression = expression.replace('\\\\\\'', '\\'')\n",
        "    return expression\n",
        "\n",
        "expression = input('Digite a expressão lógica: ')\n",
        "expression = my_notation_to_sympy(expression)\n",
        "result = simplify_expression(expression)\n",
        "result = sympy_to_my_notation(str(result))\n",
        "print(f'Expressão simplificada: {result}')"
      ],
      "metadata": {
        "colab": {
          "base_uri": "https://localhost:8080/"
        },
        "id": "L_AztTLYGYOj",
        "outputId": "dae20804-c6b8-4d50-874c-9ff538d2dd9d"
      },
      "execution_count": 9,
      "outputs": [
        {
          "output_type": "stream",
          "name": "stdout",
          "text": [
            "Digite a expressão lógica: a' * b * c' * d' + a * b * c' * d' + a' * b' * c' * d + a' * b * c' * d + a' * b * c * d' + a * b * c * d'\n",
            "Expressão simplificada: (b • d') + (d • a' • c')\n"
          ]
        }
      ]
    }
  ]
}